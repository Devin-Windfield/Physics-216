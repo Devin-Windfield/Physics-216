{
 "cells": [
  {
   "cell_type": "markdown",
   "metadata": {},
   "source": [
    "# Lab 7 Error Propagation"
   ]
  },
  {
   "cell_type": "markdown",
   "metadata": {},
   "source": [
    "### The next block of code here is the calculation for the sum of force in the rotating case from Lab number 7"
   ]
  },
  {
   "cell_type": "code",
   "execution_count": 74,
   "metadata": {},
   "outputs": [
    {
     "name": "stdout",
     "output_type": "stream",
     "text": [
      "This is the rotating sum of forces 7.757192144274851 Newtons +/- 0.10954789702482896 Newtons\n"
     ]
    }
   ],
   "source": [
    "import numpy as np\n",
    "\n",
    "#a function to find the standard deviation, because I couldn't find one in Numpy\n",
    "def stdev(a):\n",
    "    b = sum((a)/len(a)) #average of array a\n",
    "    d = ((a)-b)**2 #each data point minus the average, squared\n",
    "    e = np.sqrt((sum(d)/len(d))) #square root the average of those differences\n",
    "    return e\n",
    "\n",
    "#This is the time for ten revolutions divided by ten to calculate the time for a single rotation\n",
    "#for each radius length\n",
    "\n",
    "radius = np.array([2.06,1.87,1.64,1.51])\n",
    "time_rone = np.array([14.19,14.45,14.2,14.21,14.19])/10 \n",
    "time_rtwo = np.array([13.61,13.59,13.47,13.66,13.67])/10 \n",
    "time_rthree = np.array([12.62,12.47,12.42,12.88,12.23])/10\n",
    "time_rfour = np.array([12.14,12.28,12.43,12.23,12.28])/10\n",
    "\n",
    "#This is the value for T squared\n",
    "Tone = (sum(time_rone)/len(time_rone))**2\n",
    "Ttwo = (sum(time_rtwo)/len(time_rtwo))**2\n",
    "Tthree = (sum(time_rthree)/len(time_rfour))**2\n",
    "Tfour = (sum(time_rfour)/len(time_rfour))**2\n",
    "\n",
    "T_squared = np.array([Tone,Ttwo,Tthree,Tfour])\n",
    "\n",
    "#This is the error in T squared usning the rule of error in means\n",
    "err_Tone = (stdev(time_rone)/np.sqrt(len(time_rone)))*2*Tone\n",
    "err_Ttwo = (stdev(time_rtwo)/np.sqrt(len(time_rtwo)))\n",
    "err_Tthree = (stdev(time_rthree)/np.sqrt(len(time_rthree)))\n",
    "err_Tfour = (stdev(time_rfour)/np.sqrt(len(time_rfour)))\n",
    "\n",
    "errT_squared = np.array([err_Tone,err_Ttwo,err_Tthree,err_Tfour])\n",
    "\n",
    "### This is me blatantly stealing this from your code Jaylene :)\n",
    "x = radius\n",
    "y = T_squared\n",
    "dy = errT_squared\n",
    "\n",
    "b,m=np.polynomial.polynomial.polyfit(x,y,1,w=dy)\n",
    "fit = b+m*x\n",
    "\n",
    "def Delta(x, dy):\n",
    "    D = (sum(1/dy**2))*(sum(x**2/dy**2))-(sum(x/dy**2))**2\n",
    "    return D\n",
    "\n",
    "D=Delta(x, dy)\n",
    "\n",
    "#m and dm are T^2/r and the error in T^2/r\n",
    "b,m=np.polynomial.polynomial.polyfit(x,y,1,w=dy) #m is the slope    Don't know what b is, but I'm afraid to take it out.\n",
    "dm = np.sqrt(1/D*sum(1/dy**2)) #error in slope\n",
    "\n",
    "###\n",
    "\n",
    "#Now it's time for error Propagation Rule number four\n",
    "mass = 0.2083\n",
    "err_mass = 0.001\n",
    "\n",
    "sum_Force = 4*math.pi**2*mass*m**-1\n",
    "err_Force = sum_Force*np.sqrt((err_mass/mass)**2+(dm/m)**2)\n",
    "\n",
    "print('This is the rotating sum of forces',sum_Force,'Newtons +/-',err_Force, 'Newtons')\n"
   ]
  },
  {
   "cell_type": "markdown",
   "metadata": {},
   "source": [
    "# The rest of this is just me working out each of the error propagation rules as functions"
   ]
  },
  {
   "cell_type": "code",
   "execution_count": 14,
   "metadata": {},
   "outputs": [
    {
     "name": "stdout",
     "output_type": "stream",
     "text": [
      "49.0\n"
     ]
    }
   ],
   "source": [
    "def rule1(constant,error):\n",
    "    Q = np.abs(constant)*error\n",
    "    return Q\n",
    "\n",
    "c = 70\n",
    "da = 0.70\n",
    "\n",
    "print (rule1(c,da))\n"
   ]
  },
  {
   "cell_type": "code",
   "execution_count": 18,
   "metadata": {},
   "outputs": [
    {
     "name": "stdout",
     "output_type": "stream",
     "text": [
      "7031676478883553279994550741476882515263791803223057265323201000000000000000000000000000000000000000000000000000000000000000000000000\n"
     ]
    }
   ],
   "source": [
    "def rule2(coefficient,exponent,variable_A,error_A):\n",
    "    errQ = np.abs(coefficient*exponent*variable_A**(exponent-1))*error_A\n",
    "    return errQ\n",
    "a = 70\n",
    "b = 70\n",
    "c = 70\n",
    "d = 70\n",
    "\n",
    "print (rule2(a,b,c,d))"
   ]
  },
  {
   "cell_type": "code",
   "execution_count": 5,
   "metadata": {},
   "outputs": [
    {
     "name": "stdout",
     "output_type": "stream",
     "text": [
      "98.99494936611666\n"
     ]
    }
   ],
   "source": [
    "#Rule 3 is if Q = A + B\n",
    "\n",
    "def rule3(da,db):\n",
    "    dQ = np.sqrt(da**2+db**2)\n",
    "    return dQ\n",
    "\n",
    "da = 70\n",
    "db = 70\n",
    "\n",
    "errT = rule3(da,db)\n",
    "print (errT)"
   ]
  },
  {
   "cell_type": "code",
   "execution_count": 75,
   "metadata": {},
   "outputs": [
    {
     "name": "stdout",
     "output_type": "stream",
     "text": [
      "0.07097645242359046\n"
     ]
    }
   ],
   "source": [
    "##Rule 4 is if If Q = cA**m * B**n where\n",
    "##c, m, and n are constants, then\n",
    "\n",
    "def rule4(A,errA,m,B,errB,n,Q):\n",
    "    errQ = np.sqrt((m*errA/A)**2+(n*errB/B)**2)*Q\n",
    "    return errQ\n",
    "\n",
    "a = 57\n",
    "b = 0.1\n",
    "c = 1\n",
    "d = 63\n",
    "e = 0.05\n",
    "f = 2\n",
    "g = 30\n",
    "\n",
    "print (rule4(a,b,c,d,e,f,g))"
   ]
  },
  {
   "cell_type": "code",
   "execution_count": 9,
   "metadata": {},
   "outputs": [
    {
     "name": "stdout",
     "output_type": "stream",
     "text": [
      "[ 3  6 36]\n",
      "[ 4  8 48]\n",
      "4.96655480858378\n",
      "5.0\n"
     ]
    }
   ],
   "source": [
    "#look at a few simple array vectorization samples\n",
    "\n",
    "x = np.array([1,2,12])\n",
    "y = x*3\n",
    "print (y)\n",
    "\n",
    "z = x + y\n",
    "print (z)\n",
    "\n",
    "print (np.std(x))\n",
    "print (np.average(x))"
   ]
  },
  {
   "cell_type": "markdown",
   "metadata": {},
   "source": [
    "$ \\delta Q = \\sqrt((\\delta A)^2 + (\\delta B)^2)) $"
   ]
  },
  {
   "cell_type": "code",
   "execution_count": null,
   "metadata": {},
   "outputs": [],
   "source": []
  },
  {
   "cell_type": "markdown",
   "metadata": {},
   "source": []
  }
 ],
 "metadata": {
  "kernelspec": {
   "display_name": "Python 3",
   "language": "python",
   "name": "python3"
  },
  "language_info": {
   "codemirror_mode": {
    "name": "ipython",
    "version": 3
   },
   "file_extension": ".py",
   "mimetype": "text/x-python",
   "name": "python",
   "nbconvert_exporter": "python",
   "pygments_lexer": "ipython3",
   "version": "3.8.3"
  }
 },
 "nbformat": 4,
 "nbformat_minor": 4
}
