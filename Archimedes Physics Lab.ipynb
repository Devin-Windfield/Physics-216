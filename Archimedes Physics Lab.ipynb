{
 "cells": [
  {
   "cell_type": "code",
   "execution_count": null,
   "metadata": {},
   "outputs": [],
   "source": []
  },
  {
   "cell_type": "code",
   "execution_count": 14,
   "metadata": {},
   "outputs": [
    {
     "name": "stdout",
     "output_type": "stream",
     "text": [
      "Water volume is 0.000326 m^3\n",
      "Water mass is 0.3217 kg\n",
      "Water density is 986.8098159509202 kg/m^3\n",
      "The predicted Bouyant Force is [0.09291814 0.18535108 0.27657098 0.37409864] for h1, h2, h3, and h4 respectively\n",
      "The error in this is +/- [0.00888471 0.00859268 0.00853759 0.00851713] Newtons\n",
      "\n",
      "Initial weight 1.09074 Newtons\n",
      "Apparent weight [1.00058 0.90062 0.80948 0.71148] Newtons\n",
      "The experimental bouyancy force is [0.09016 0.19012 0.28126 0.37926] Newtons for h1, h2, h3, and h4 respectively\n",
      "The experimental error is 0.0001414213562373095 kg\n"
     ]
    }
   ],
   "source": [
    "import numpy as np\n",
    "import math\n",
    "pi = math.pi\n",
    "\n",
    "Water_Volume = 326 * 10**-6  #1 ml = 1*10^-6 m^3\n",
    "err_water_volume = 1 * 10**-6\n",
    "Water_Mass = (483.4-161.7)/1000 #kg\n",
    "err_water_mass = 0.1/1000\n",
    "\n",
    "##Density is the ratio of mass to volume, kg/m^3\n",
    "Water_Density = Water_Mass/Water_Volume\n",
    "\n",
    "print('Water volume is',Water_Volume,'m^3')\n",
    "print ('Water mass is',Water_Mass,'kg')\n",
    "print ('Water density is',Water_Density,'kg/m^3')\n",
    "\n",
    "height = np.array([1.915,3.82,5.7,7.71])/100 #meters\n",
    "radius = 2.5275/200 #meters\n",
    "err_caliper = 0.005/100 #meters\n",
    "\n",
    "\n",
    "#Bouyant force = density * volume of displaced liquid * acceleration\n",
    "Predicted_Bouyant_force = (height*pi*radius**2 * Water_Density * 9.8) #9.8 is the acceleration due to gravity\n",
    "\n",
    "#let's calculate the error\n",
    "#Rule number 4\n",
    "err_predicted_bouyant = np.sqrt((err_water_mass/Water_Mass)**2+(err_caliper/height)**2+(2*err_caliper/radius)**2+(-1*err_water_volume/Water_Volume)**2)\n",
    "\n",
    "print ('The predicted Bouyant Force is',Predicted_Bouyant_force, 'for h1, h2, h3, and h4 respectively')\n",
    "print ('The error in this is +/-',err_predicted_bouyant,'Newtons')\n",
    "print ('')\n",
    "\n",
    "\n",
    "####### This is now the experimental section #######\n",
    "\n",
    "\n",
    "#experimental bouyant force\n",
    "Total_mass = 111.3/1000 #kg\n",
    "mass = np.array([102.1,91.9,82.6,72.6])/1000 #kilograms\n",
    "err_mass = 0.1/1000\n",
    "\n",
    "Experimental_Bouyancy_force = (Total_mass-mass)*9.8\n",
    "\n",
    "#Let's calculate the error\n",
    "#rule number 3\n",
    "err_experimental = np.sqrt(err_mass**2+err_mass**2)\n",
    "\n",
    "\n",
    "\n",
    "print ('Initial weight',Total_mass*9.8,'Newtons')\n",
    "print ('Apparent weight',mass*9.8,'Newtons')\n",
    "print ('The experimental bouyancy force is',Experimental_Bouyancy_force,'Newtons for h1, h2, h3, and h4 respectively')\n",
    "print ('The experimental error is',err_experimental,'kg')\n"
   ]
  },
  {
   "cell_type": "code",
   "execution_count": null,
   "metadata": {},
   "outputs": [],
   "source": []
  }
 ],
 "metadata": {
  "kernelspec": {
   "display_name": "Python 3",
   "language": "python",
   "name": "python3"
  },
  "language_info": {
   "codemirror_mode": {
    "name": "ipython",
    "version": 3
   },
   "file_extension": ".py",
   "mimetype": "text/x-python",
   "name": "python",
   "nbconvert_exporter": "python",
   "pygments_lexer": "ipython3",
   "version": "3.8.3"
  }
 },
 "nbformat": 4,
 "nbformat_minor": 4
}
