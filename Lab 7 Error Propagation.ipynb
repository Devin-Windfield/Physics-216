{
 "cells": [
  {
   "cell_type": "markdown",
   "metadata": {},
   "source": [
    "######This is a guide to Error Propagation"
   ]
  },
  {
   "cell_type": "code",
   "execution_count": 4,
   "metadata": {},
   "outputs": [
    {
     "name": "stdout",
     "output_type": "stream",
     "text": [
      "60\n"
     ]
    }
   ],
   "source": [
    "import numpy as np\n",
    "\n",
    "def fred(a,b):\n",
    "    c = (a+b)*12\n",
    "    return c\n",
    "print (fred(2,3))\n"
   ]
  },
  {
   "cell_type": "code",
   "execution_count": 14,
   "metadata": {},
   "outputs": [
    {
     "name": "stdout",
     "output_type": "stream",
     "text": [
      "49.0\n"
     ]
    }
   ],
   "source": [
    "def rule1(constant,error):\n",
    "    Q = np.abs(constant)*error\n",
    "    return Q\n",
    "\n",
    "c = 70\n",
    "da = 0.70\n",
    "\n",
    "print (rule1(c,da))\n"
   ]
  },
  {
   "cell_type": "code",
   "execution_count": 18,
   "metadata": {},
   "outputs": [
    {
     "name": "stdout",
     "output_type": "stream",
     "text": [
      "7031676478883553279994550741476882515263791803223057265323201000000000000000000000000000000000000000000000000000000000000000000000000\n"
     ]
    }
   ],
   "source": [
    "def rule2(coefficient,exponent,variable_A,error_A):\n",
    "    errQ = np.abs(coefficient*exponent*variable_A**(exponent-1))*error_A\n",
    "    return errQ\n",
    "a = 70\n",
    "b = 70\n",
    "c = 70\n",
    "d = 70\n",
    "\n",
    "print (rule2(a,b,c,d))"
   ]
  },
  {
   "cell_type": "code",
   "execution_count": 5,
   "metadata": {},
   "outputs": [
    {
     "name": "stdout",
     "output_type": "stream",
     "text": [
      "98.99494936611666\n"
     ]
    }
   ],
   "source": [
    "#Rule 3 is if Q = A + B\n",
    "\n",
    "def rule3(da,db):\n",
    "    dQ = np.sqrt(da**2+db**2)\n",
    "    return dQ\n",
    "\n",
    "da = 70\n",
    "db = 70\n",
    "\n",
    "errT = rule3(da,db)\n",
    "print (errT)"
   ]
  },
  {
   "cell_type": "code",
   "execution_count": 20,
   "metadata": {},
   "outputs": [
    {
     "name": "stdout",
     "output_type": "stream",
     "text": [
      "0.07097645242359046\n"
     ]
    }
   ],
   "source": [
    "##Rule 4 is if If Q = cA**m * B**n where\n",
    "##c, m, and n are constants, then\n",
    "\n",
    "def rule4(A,errA,m,B,errB,n,Q):\n",
    "    errQ = np.sqrt((m*errA/A)**2+(n*errB/B)**2)*Q\n",
    "    return errQ\n",
    "\n",
    "a = 57\n",
    "b = 0.1\n",
    "c = 1\n",
    "d = 63\n",
    "e = 0.05\n",
    "f = 2\n",
    "g = 30\n",
    "\n",
    "print (rule4(a,b,c,d,e,f,g))"
   ]
  },
  {
   "cell_type": "code",
   "execution_count": 9,
   "metadata": {},
   "outputs": [
    {
     "name": "stdout",
     "output_type": "stream",
     "text": [
      "[ 3  6 36]\n",
      "[ 4  8 48]\n",
      "4.96655480858378\n",
      "5.0\n"
     ]
    }
   ],
   "source": [
    "#look at a few simple array vectorization samples\n",
    "\n",
    "x = np.array([1,2,12])\n",
    "y = x*3\n",
    "print (y)\n",
    "\n",
    "z = x + y\n",
    "print (z)\n",
    "\n",
    "print (np.std(x))\n",
    "print (np.average(x))"
   ]
  },
  {
   "cell_type": "markdown",
   "metadata": {},
   "source": [
    "$ \\delta Q = \\sqrt((\\delta A)^2 + (\\delta B)^2)) $"
   ]
  },
  {
   "cell_type": "code",
   "execution_count": null,
   "metadata": {},
   "outputs": [],
   "source": []
  },
  {
   "cell_type": "markdown",
   "metadata": {},
   "source": []
  }
 ],
 "metadata": {
  "kernelspec": {
   "display_name": "Python 3",
   "language": "python",
   "name": "python3"
  },
  "language_info": {
   "codemirror_mode": {
    "name": "ipython",
    "version": 3
   },
   "file_extension": ".py",
   "mimetype": "text/x-python",
   "name": "python",
   "nbconvert_exporter": "python",
   "pygments_lexer": "ipython3",
   "version": "3.8.3"
  }
 },
 "nbformat": 4,
 "nbformat_minor": 4
}
