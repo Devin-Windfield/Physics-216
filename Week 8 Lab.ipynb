{
 "cells": [
  {
   "cell_type": "markdown",
   "metadata": {},
   "source": [
    "# Week 8 lab calculations"
   ]
  },
  {
   "cell_type": "markdown",
   "metadata": {},
   "source": [
    "## Theoretical value"
   ]
  },
  {
   "cell_type": "code",
   "execution_count": 17,
   "metadata": {},
   "outputs": [
    {
     "name": "stdout",
     "output_type": "stream",
     "text": [
      "Inertia is calculated to be 0.009336976200000001 +/- 8.190587763359844e-05\n"
     ]
    }
   ],
   "source": [
    "Mass = 1436.9/1000 #mass of wheel in kg\n",
    "Diameter = 22.8/100 #diameter in m\n",
    "err_M = 0.1/1000 #kg\n",
    "err_D = 1/1000 #m\n",
    "\n",
    "M = Mass\n",
    "D = Diameter\n",
    "#calculate error in Inertia using Rule #4\n",
    "Inertia = 0.5*M*(D/2)**2\n",
    "err_Inertia = Inertia*np.sqrt((err_M/M)**2+(2*err_D/D)**2)\n",
    "\n",
    "print ('Inertia is calculated to be',Inertia,'+/-',err_Inertia)"
   ]
  },
  {
   "cell_type": "markdown",
   "metadata": {},
   "source": [
    "## Experimental Data"
   ]
  },
  {
   "cell_type": "code",
   "execution_count": 7,
   "metadata": {},
   "outputs": [
    {
     "name": "stdout",
     "output_type": "stream",
     "text": [
      "accel [0.14040078 0.41542771 0.71396251 1.02898082 1.34152122]\n",
      "Torque [0.00378931 0.0068178  0.00984328 0.01286558 0.01588492]\n",
      "err_Torque [1.59292647e-05 1.75280918e-05 1.97807504e-05 2.24893250e-05\n",
      " 2.55074937e-05]\n",
      "\n",
      "The final Inertia is 0.009952629890704159\n",
      "The error in Inertia is 2.0246985094219778e-05\n"
     ]
    }
   ],
   "source": [
    "\n",
    "import numpy as np\n",
    "import math\n",
    "#a function to find the standard deviation, because I couldn't find one in Numpy\n",
    "def stdev(a):\n",
    "    b = sum((a)/len(a)) #average of array a\n",
    "    d = ((a)-b)**2 #each data point minus the average, squared\n",
    "    e = np.sqrt((sum(d)/len(d))) #square root the average of those differences\n",
    "    return e\n",
    "\n",
    "##Trial data\n",
    "\n",
    "\n",
    "Mass_25 = np.array([2.287,2.254,2.117,2.179,2.176,2.019])*10**-3\n",
    "Mass_45 = np.array([6.68,6.407,6.405,6.291,6.380,6.397])*10**-3\n",
    "Mass_65 = np.array([1.125,1.117,1.065,1.078,1.132,1.110])*10**-2\n",
    "Mass_85 = np.array([1.602,1.595,1.577,1.609,1.622,1.546])*10**-2\n",
    "Mass_105 = np.array([2.066,2.052,2.095,2.106,2.075,2.058])*10**-2\n",
    "\n",
    "a1 = np.average(Mass_25)\n",
    "a2 = np.average(Mass_45)\n",
    "a3 = np.average(Mass_65)\n",
    "a4 = np.average(Mass_85)\n",
    "a5 = np.average(Mass_105)\n",
    "\n",
    "#Calculate the error in acceleration using the error in the mean\n",
    "b1 = stdev(Mass_25)/np.sqrt(len(Mass_25))\n",
    "b2 = stdev(Mass_45)/np.sqrt(len(Mass_45))\n",
    "b3 = stdev(Mass_65)/np.sqrt(len(Mass_65))\n",
    "b4 = stdev(Mass_85)/np.sqrt(len(Mass_85))\n",
    "b5 = stdev(Mass_105)/np.sqrt(len(Mass_105))\n",
    "\n",
    "\n",
    "#Calculating Torque and the error in Torque with rule 4\n",
    "Mass = np.array([25,45,65,85,105])/1000\n",
    "Accel = np.array([a1,a2,a3,a4,a5])\n",
    "err_Accel = np.array([b1,b2,b3,b4,b5])\n",
    "Radius = 0.01547\n",
    "err_Radius = 0.02/1000 \n",
    "\n",
    "Alpha = Accel/Radius\n",
    "Err_Alpha = np.sqrt((err_Accel/Accel)**2+(-1*err_Radius/Radius)**2)*Accel\n",
    "\n",
    "Torque = Radius*Mass*(9.8-Accel)\n",
    "err_Torque = np.sqrt((0.02/1000/0.01547)**2+(.1/1000/Mass)**2+(err_Accel/(9.8+Accel))**2)*Torque\n",
    "\n",
    "\n",
    "### This is me blatantly stealing this from your code Jaylene to get the slope from the line of best fit :)\n",
    "x = Alpha\n",
    "y = Torque\n",
    "dy = err_Torque\n",
    "\n",
    "### For some reason, when I copy paste x,y,dy into your original code, the output for m, the slope, is 10 times greater ###\n",
    "### than when I do it here. It should either be 0.643 or 6.43 and I don't know which.\n",
    "print('accel',x)\n",
    "print('Torque',y)\n",
    "print('err_Torque',dy)\n",
    "b,m=np.polynomial.polynomial.polyfit(x,y,1,w=dy)\n",
    "fit = b+m*x\n",
    "\n",
    "def Delta(x, dy):\n",
    "    D = (sum(1/dy**2))*(sum(x**2/dy**2))-(sum(x/dy**2))**2\n",
    "    return D\n",
    "\n",
    "D=Delta(x, dy)\n",
    "\n",
    "#m and dm are T^2/r and the error in T^2/r\n",
    "b,m=np.polynomial.polynomial.polyfit(x,y,1,w=dy) #m is the slope    Don't know what b is, but I'm afraid to take it out.\n",
    "dm = np.sqrt(1/D*sum(1/dy**2)) #error in slope\n",
    "\n",
    "###\n",
    "\n",
    "# The slope here is Torque/Alpha\n",
    "Inertia = m\n",
    "\n",
    "### error propagation rule four\n",
    "\n",
    "print()\n",
    "\n",
    "print ('The final Inertia is',Inertia)\n",
    "print ('The error in Inertia is',sum(err_Torque)/len(err_Torque))"
   ]
  },
  {
   "cell_type": "code",
   "execution_count": 56,
   "metadata": {},
   "outputs": [
    {
     "name": "stdout",
     "output_type": "stream",
     "text": [
      "0\n"
     ]
    }
   ],
   "source": [
    "x = 1\n",
    "\n",
    "y = 0\n",
    "\n",
    "if x and y:\n",
    "\n",
    "     print(1)\n",
    "\n",
    "else:\n",
    "\n",
    "     print(0)"
   ]
  },
  {
   "cell_type": "code",
   "execution_count": null,
   "metadata": {},
   "outputs": [],
   "source": []
  }
 ],
 "metadata": {
  "kernelspec": {
   "display_name": "Python 3",
   "language": "python",
   "name": "python3"
  },
  "language_info": {
   "codemirror_mode": {
    "name": "ipython",
    "version": 3
   },
   "file_extension": ".py",
   "mimetype": "text/x-python",
   "name": "python",
   "nbconvert_exporter": "python",
   "pygments_lexer": "ipython3",
   "version": "3.8.3"
  }
 },
 "nbformat": 4,
 "nbformat_minor": 4
}
